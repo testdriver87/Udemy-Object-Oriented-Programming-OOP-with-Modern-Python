{
  "cells": [
    {
      "cell_type": "markdown",
      "metadata": {
        "id": "view-in-github",
        "colab_type": "text"
      },
      "source": [
        "<a href=\"https://colab.research.google.com/github/testdriver87/Udemy-Object-Oriented-Programming-OOP-with-Modern-Python/blob/main/021_Classes.ipynb\" target=\"_parent\"><img src=\"https://colab.research.google.com/assets/colab-badge.svg\" alt=\"Open In Colab\"/></a>"
      ]
    },
    {
      "cell_type": "markdown",
      "source": [
        "## `PEP8`"
      ],
      "metadata": {
        "id": "e89tQcoSOSf5"
      }
    },
    {
      "cell_type": "markdown",
      "source": [
        "## `Our First Class`"
      ],
      "metadata": {
        "id": "xDsbI19lOSgN"
      }
    },
    {
      "cell_type": "code",
      "source": [
        "class MercedezBenz:\n",
        "    pass"
      ],
      "execution_count": null,
      "outputs": [],
      "metadata": {
        "id": "4VQeg13COSgP"
      }
    },
    {
      "cell_type": "code",
      "source": [
        "MercedezBenz"
      ],
      "execution_count": null,
      "outputs": [
        {
          "data": {
            "text/plain": [
              "__main__.MercedezBenz"
            ]
          },
          "metadata": {},
          "output_type": "display_data"
        }
      ],
      "metadata": {
        "id": "8--1Qw5nOSgR",
        "outputId": "8bbd9e01-ee63-43cf-d3c5-e41ea110513d"
      }
    },
    {
      "cell_type": "code",
      "source": [
        "type(MercedezBenz)"
      ],
      "execution_count": null,
      "outputs": [
        {
          "data": {
            "text/plain": [
              "type"
            ]
          },
          "metadata": {},
          "output_type": "display_data"
        }
      ],
      "metadata": {
        "id": "wnyuIfmeOSgT",
        "outputId": "560049a6-4603-4e99-b0db-0eff7146021d"
      }
    },
    {
      "cell_type": "code",
      "source": [
        "MercedezBenz.__bases__"
      ],
      "execution_count": null,
      "outputs": [
        {
          "data": {
            "text/plain": [
              "(object,)"
            ]
          },
          "metadata": {},
          "output_type": "display_data"
        }
      ],
      "metadata": {
        "id": "RtEIHmu3OSgU",
        "outputId": "038188bd-7a17-4240-9e97-49ba82cc167c"
      }
    },
    {
      "cell_type": "code",
      "source": [
        "MercedezBenz.__name__"
      ],
      "execution_count": null,
      "outputs": [
        {
          "data": {
            "text/plain": [
              "'MercedezBenz'"
            ]
          },
          "metadata": {},
          "output_type": "display_data"
        }
      ],
      "metadata": {
        "id": "rNFE8gc0OSgW",
        "outputId": "9e32d3ec-353c-41f0-bf41-d9c66290708c"
      }
    },
    {
      "cell_type": "code",
      "source": [
        "MercedezBenz()"
      ],
      "execution_count": null,
      "outputs": [
        {
          "data": {
            "text/plain": [
              "<__main__.MercedezBenz at 0x7f787da693d0>"
            ]
          },
          "metadata": {},
          "output_type": "display_data"
        }
      ],
      "metadata": {
        "id": "aipz1AGtOSgY",
        "outputId": "aa1b69a9-a475-42fc-b7e7-c25b14d2b835"
      }
    },
    {
      "cell_type": "code",
      "source": [
        "m1 = MercedezBenz()\n",
        "m2 = MercedezBenz()"
      ],
      "execution_count": null,
      "outputs": [],
      "metadata": {
        "id": "TvOeldOPOSga"
      }
    },
    {
      "cell_type": "code",
      "source": [
        "m1"
      ],
      "execution_count": null,
      "outputs": [
        {
          "data": {
            "text/plain": [
              "<__main__.MercedezBenz at 0x7f787d9cb6d0>"
            ]
          },
          "metadata": {},
          "output_type": "display_data"
        }
      ],
      "metadata": {
        "id": "6DgK0ymxOSgd",
        "outputId": "403ed9c9-152d-4608-b1f9-d089e3b36d59"
      }
    },
    {
      "cell_type": "code",
      "source": [
        "m2"
      ],
      "execution_count": null,
      "outputs": [
        {
          "data": {
            "text/plain": [
              "<__main__.MercedezBenz at 0x7f787d9cb370>"
            ]
          },
          "metadata": {},
          "output_type": "display_data"
        }
      ],
      "metadata": {
        "id": "XlC5SIbcOSg2",
        "outputId": "4b3b8047-3a3e-45b3-a878-00346bf18e89"
      }
    },
    {
      "cell_type": "code",
      "source": [
        "m2 == m1"
      ],
      "execution_count": null,
      "outputs": [
        {
          "data": {
            "text/plain": [
              "False"
            ]
          },
          "metadata": {},
          "output_type": "display_data"
        }
      ],
      "metadata": {
        "id": "44JirbyZOSg6",
        "outputId": "636c4fed-0dc0-45b6-faa2-15bc500af16d"
      }
    },
    {
      "cell_type": "markdown",
      "source": [
        "## `Class State`"
      ],
      "metadata": {
        "id": "wKDz7WCPOShv"
      }
    },
    {
      "cell_type": "code",
      "source": [
        "class MercedezBenz:\n",
        "    doors = 2\n",
        "    wheels = 4"
      ],
      "execution_count": null,
      "outputs": [],
      "metadata": {
        "id": "2b0K_eDdOShw"
      }
    },
    {
      "cell_type": "code",
      "source": [
        "# __dict__"
      ],
      "execution_count": null,
      "outputs": [],
      "metadata": {
        "id": "7RBAgbwBOShy"
      }
    },
    {
      "cell_type": "code",
      "source": [
        "MercedezBenz.__dict__"
      ],
      "execution_count": null,
      "outputs": [
        {
          "data": {
            "text/plain": [
              "mappingproxy({'__module__': '__main__',\n",
              "              'doors': 2,\n",
              "              'wheels': 4,\n",
              "              '__dict__': <attribute '__dict__' of 'MercedezBenz' objects>,\n",
              "              '__weakref__': <attribute '__weakref__' of 'MercedezBenz' objects>,\n",
              "              '__doc__': None})"
            ]
          },
          "metadata": {},
          "output_type": "display_data"
        }
      ],
      "metadata": {
        "id": "t8fRHyBYOShy",
        "outputId": "fec6ae1b-2a97-4fe0-f8ad-12df4d87e6e5"
      }
    },
    {
      "cell_type": "code",
      "source": [
        "MercedezBenz.doors = 4"
      ],
      "execution_count": null,
      "outputs": [],
      "metadata": {
        "id": "vzwNbAzcOShz"
      }
    },
    {
      "cell_type": "code",
      "source": [
        "MercedezBenz.model = 'G'"
      ],
      "execution_count": null,
      "outputs": [],
      "metadata": {
        "id": "5KP59D2COSh0"
      }
    },
    {
      "cell_type": "code",
      "source": [
        "MercedezBenz.__dict__"
      ],
      "execution_count": null,
      "outputs": [
        {
          "data": {
            "text/plain": [
              "mappingproxy({'__module__': '__main__',\n",
              "              'doors': 4,\n",
              "              'wheels': 4,\n",
              "              '__dict__': <attribute '__dict__' of 'MercedezBenz' objects>,\n",
              "              '__weakref__': <attribute '__weakref__' of 'MercedezBenz' objects>,\n",
              "              '__doc__': None,\n",
              "              'model': 'G'})"
            ]
          },
          "metadata": {},
          "output_type": "display_data"
        }
      ],
      "metadata": {
        "id": "Duz2LUNmOSh1",
        "outputId": "afd544af-069f-4770-f21b-bf8a71b6dc54"
      }
    },
    {
      "cell_type": "code",
      "source": [
        "m3 = MercedezBenz()\n",
        "m4 = MercedezBenz()"
      ],
      "execution_count": null,
      "outputs": [],
      "metadata": {
        "id": "aEBh7kR-OSh2"
      }
    },
    {
      "cell_type": "code",
      "source": [
        "m3.doors"
      ],
      "execution_count": null,
      "outputs": [
        {
          "data": {
            "text/plain": [
              "4"
            ]
          },
          "metadata": {},
          "output_type": "display_data"
        }
      ],
      "metadata": {
        "id": "UbrA23lJOSh2",
        "outputId": "c05fb2e8-9ac3-4989-b906-eebfccdbb67e"
      }
    },
    {
      "cell_type": "code",
      "source": [
        "m4.model, m3.model"
      ],
      "execution_count": null,
      "outputs": [
        {
          "data": {
            "text/plain": [
              "('G', 'G')"
            ]
          },
          "metadata": {},
          "output_type": "display_data"
        }
      ],
      "metadata": {
        "id": "P2P0aEBZOSh3",
        "outputId": "49a9aa63-73c1-445e-f3f1-1df797a778a5"
      }
    },
    {
      "cell_type": "markdown",
      "source": [
        "## `Methods And Behaviour`"
      ],
      "metadata": {
        "id": "U8BSasQvOSh3"
      }
    },
    {
      "cell_type": "code",
      "source": [
        "class MercedezBenz:\n",
        "    doors = 4\n",
        "    wheels = 4\n",
        "    model = 'G'"
      ],
      "execution_count": null,
      "outputs": [],
      "metadata": {
        "id": "xZFB0PliOSh6"
      }
    },
    {
      "cell_type": "code",
      "source": [
        "def drive():\n",
        "    return \"A car is being driven\""
      ],
      "execution_count": null,
      "outputs": [],
      "metadata": {
        "id": "DCf-SJPgOSh7"
      }
    },
    {
      "cell_type": "code",
      "source": [
        "drive()"
      ],
      "execution_count": null,
      "outputs": [
        {
          "data": {
            "text/plain": [
              "'A car is being driven'"
            ]
          },
          "metadata": {},
          "output_type": "display_data"
        }
      ],
      "metadata": {
        "id": "v3oFjzr7OSh8",
        "outputId": "40f7297e-f016-4736-93e7-48ba0b3b1951"
      }
    },
    {
      "cell_type": "code",
      "source": [
        "class MercedezBenz:\n",
        "    doors = 4\n",
        "    wheels = 4\n",
        "    model = 'G'\n",
        "\n",
        "    def drive(self):\n",
        "        return self"
      ],
      "execution_count": null,
      "outputs": [],
      "metadata": {
        "id": "ITUfurX7OSh8"
      }
    },
    {
      "cell_type": "code",
      "source": [
        "m1 = MercedezBenz()"
      ],
      "execution_count": null,
      "outputs": [],
      "metadata": {
        "id": "PFxkGk8xOSh9"
      }
    },
    {
      "cell_type": "code",
      "source": [
        "m1.drive()"
      ],
      "execution_count": null,
      "outputs": [
        {
          "data": {
            "text/plain": [
              "<__main__.MercedezBenz at 0x7f787d587100>"
            ]
          },
          "metadata": {},
          "output_type": "display_data"
        }
      ],
      "metadata": {
        "id": "sA8-yKuSOSh9",
        "outputId": "9e195d29-8f36-4ed2-da80-7e98a2b69098"
      }
    },
    {
      "cell_type": "code",
      "source": [
        "m1"
      ],
      "execution_count": null,
      "outputs": [
        {
          "data": {
            "text/plain": [
              "<__main__.MercedezBenz at 0x7f787d587100>"
            ]
          },
          "metadata": {},
          "output_type": "display_data"
        }
      ],
      "metadata": {
        "id": "W0BZ8awiOSh9",
        "outputId": "5905ff65-dfe6-45c4-a8c0-631b118ca88f"
      }
    },
    {
      "cell_type": "code",
      "source": [
        "m1 == m1.drive()"
      ],
      "execution_count": null,
      "outputs": [
        {
          "data": {
            "text/plain": [
              "True"
            ]
          },
          "metadata": {},
          "output_type": "display_data"
        }
      ],
      "metadata": {
        "id": "zwGEBZ8ROSh-",
        "outputId": "a09740dd-52c9-4f2a-8ca1-be00e16e4e50"
      }
    },
    {
      "cell_type": "code",
      "source": [
        "m1 is m1.drive()"
      ],
      "execution_count": null,
      "outputs": [
        {
          "data": {
            "text/plain": [
              "True"
            ]
          },
          "metadata": {},
          "output_type": "display_data"
        }
      ],
      "metadata": {
        "id": "MacHmYNBOSh-",
        "outputId": "5796485b-7072-4e12-da37-af8716c87cf4"
      }
    },
    {
      "cell_type": "code",
      "source": [
        "m1 == MercedezBenz"
      ],
      "execution_count": null,
      "outputs": [
        {
          "data": {
            "text/plain": [
              "False"
            ]
          },
          "metadata": {},
          "output_type": "display_data"
        }
      ],
      "metadata": {
        "id": "SvDChIgWOSh_",
        "outputId": "ad2cc432-90fb-4a70-be73-6768a6c63cef"
      }
    },
    {
      "cell_type": "code",
      "source": [
        "class MercedezBenz:\n",
        "    doors = 4\n",
        "    wheels = 4\n",
        "    model = 'G'\n",
        "\n",
        "    def drive(self):\n",
        "        return f\"A Mercedez is driving. And it is {self}\\n\""
      ],
      "execution_count": null,
      "outputs": [],
      "metadata": {
        "id": "XyOb2RGpOSh_"
      }
    },
    {
      "cell_type": "code",
      "source": [
        "m1 = MercedezBenz()\n",
        "m2 = MercedezBenz()"
      ],
      "execution_count": null,
      "outputs": [],
      "metadata": {
        "id": "aIGLdQ7-OSh_"
      }
    },
    {
      "cell_type": "code",
      "source": [
        "m1.drive()"
      ],
      "execution_count": null,
      "outputs": [
        {
          "data": {
            "text/plain": [
              "'A Mercedez is driving. And it is <__main__.MercedezBenz object at 0x7f787d8734c0>\\n'"
            ]
          },
          "metadata": {},
          "output_type": "display_data"
        }
      ],
      "metadata": {
        "id": "7UI9d8U1OSiA",
        "outputId": "a0309dee-bb23-4e3e-dbce-932cd67a41b4"
      }
    },
    {
      "cell_type": "code",
      "source": [
        "m2.drive()"
      ],
      "execution_count": null,
      "outputs": [
        {
          "data": {
            "text/plain": [
              "'A Mercedez is driving. And it is <__main__.MercedezBenz object at 0x7f787d873bb0>\\n'"
            ]
          },
          "metadata": {},
          "output_type": "display_data"
        }
      ],
      "metadata": {
        "id": "JePIt54POSiA",
        "outputId": "b2d302ee-0edd-49f9-e59b-9168385b8e41"
      }
    },
    {
      "cell_type": "code",
      "source": [
        "# tracing drive"
      ],
      "execution_count": null,
      "outputs": [],
      "metadata": {
        "id": "xn-_UunuOSiC"
      }
    },
    {
      "cell_type": "code",
      "source": [
        "MercedezBenz.drive"
      ],
      "execution_count": null,
      "outputs": [
        {
          "data": {
            "text/plain": [
              "<function __main__.MercedezBenz.drive(self)>"
            ]
          },
          "metadata": {},
          "output_type": "display_data"
        }
      ],
      "metadata": {
        "id": "3PEWm-GoOSiH",
        "outputId": "382c927c-5ab9-44a6-dcf8-cd18aba9988e"
      }
    },
    {
      "cell_type": "code",
      "source": [
        "type(MercedezBenz.drive)"
      ],
      "execution_count": null,
      "outputs": [
        {
          "data": {
            "text/plain": [
              "function"
            ]
          },
          "metadata": {},
          "output_type": "display_data"
        }
      ],
      "metadata": {
        "id": "VIDPb4pGOSiV",
        "outputId": "c51f3f82-06e7-4444-c5ee-6c2baa976593"
      }
    },
    {
      "cell_type": "code",
      "source": [
        "m1.drive"
      ],
      "execution_count": null,
      "outputs": [
        {
          "data": {
            "text/plain": [
              "<bound method MercedezBenz.drive of <__main__.MercedezBenz object at 0x7f787d8734c0>>"
            ]
          },
          "metadata": {},
          "output_type": "display_data"
        }
      ],
      "metadata": {
        "id": "aNhkqAHHOSiW",
        "outputId": "e7aa0c24-fd6d-4cda-f4f5-ea57f1401076"
      }
    },
    {
      "cell_type": "code",
      "source": [
        "m2.drive"
      ],
      "execution_count": null,
      "outputs": [
        {
          "data": {
            "text/plain": [
              "<bound method MercedezBenz.drive of <__main__.MercedezBenz object at 0x7f787d873bb0>>"
            ]
          },
          "metadata": {},
          "output_type": "display_data"
        }
      ],
      "metadata": {
        "id": "aCEGgt5IOSiY",
        "outputId": "99550f3a-74c3-4b0e-af48-eb1a57038555"
      }
    },
    {
      "cell_type": "code",
      "source": [
        "type(m2.drive)"
      ],
      "execution_count": null,
      "outputs": [
        {
          "data": {
            "text/plain": [
              "method"
            ]
          },
          "metadata": {},
          "output_type": "display_data"
        }
      ],
      "metadata": {
        "id": "2RwZxnTuOSiY",
        "outputId": "776d7b62-b2a4-48e0-c385-970aaa69fdcd"
      }
    },
    {
      "cell_type": "markdown",
      "source": [
        "## `Instance Attribtues`"
      ],
      "metadata": {
        "id": "o0gP-eD2OSiY"
      }
    },
    {
      "cell_type": "code",
      "source": [
        "class MercedezBenz:\n",
        "    doors = 4\n",
        "    wheels = 4\n",
        "    model = 'G'\n",
        "\n",
        "\n",
        "    def drive(self):\n",
        "        print(f\"A Mercedez is driving. It is {self}\\n\")"
      ],
      "execution_count": null,
      "outputs": [],
      "metadata": {
        "id": "ew7J9qBoOSiZ"
      }
    },
    {
      "cell_type": "code",
      "source": [
        "m1 = MercedezBenz()\n",
        "m2 = MercedezBenz()"
      ],
      "execution_count": null,
      "outputs": [],
      "metadata": {
        "id": "cHBkZw1fOSiZ"
      }
    },
    {
      "cell_type": "code",
      "source": [
        "m1.doors, m2.doors"
      ],
      "execution_count": null,
      "outputs": [
        {
          "data": {
            "text/plain": [
              "(4, 4)"
            ]
          },
          "metadata": {},
          "output_type": "display_data"
        }
      ],
      "metadata": {
        "id": "IHxgT7BzOSia",
        "outputId": "4ceec3ec-e343-465a-d787-7728e36b3345"
      }
    },
    {
      "cell_type": "code",
      "source": [
        "m1.model, m2.model"
      ],
      "execution_count": null,
      "outputs": [
        {
          "data": {
            "text/plain": [
              "('G', 'G')"
            ]
          },
          "metadata": {},
          "output_type": "display_data"
        }
      ],
      "metadata": {
        "id": "woc3vWpROSia",
        "outputId": "92b34075-2409-4787-81bd-402b73cd83dc"
      }
    },
    {
      "cell_type": "code",
      "source": [
        "m1.color = \"black\"\n",
        "m2.color = \"red\""
      ],
      "execution_count": null,
      "outputs": [],
      "metadata": {
        "id": "jEOlnLJNOSib"
      }
    },
    {
      "cell_type": "code",
      "source": [
        "m1.color, m2.color"
      ],
      "execution_count": null,
      "outputs": [
        {
          "data": {
            "text/plain": [
              "('black', 'red')"
            ]
          },
          "metadata": {},
          "output_type": "display_data"
        }
      ],
      "metadata": {
        "id": "2DuBx4X9OSib",
        "outputId": "7553284f-7a36-4ee4-c19e-336bcdf97814"
      }
    },
    {
      "cell_type": "code",
      "source": [
        "class MercedezBenz:\n",
        "    doors = 4\n",
        "    wheels = 4\n",
        "    model = 'G'\n",
        "\n",
        "    def __init__(self, color=\"black\"):  # after instance creation, but before it is returned\n",
        "        self.color = color\n",
        "\n",
        "    def drive(self):\n",
        "        print(f\"A Mercedez is driving. It is {self}\\n\")"
      ],
      "execution_count": null,
      "outputs": [],
      "metadata": {
        "id": "5xK4j5U7OSic"
      }
    },
    {
      "cell_type": "code",
      "source": [
        "MercedezBenz()"
      ],
      "execution_count": null,
      "outputs": [
        {
          "data": {
            "text/plain": [
              "<__main__.MercedezBenz at 0x7f787d85ca60>"
            ]
          },
          "metadata": {},
          "output_type": "display_data"
        }
      ],
      "metadata": {
        "id": "eiZNJFvnOSic",
        "outputId": "523f744c-4077-4ae1-8732-5fbd0757cb9e"
      }
    },
    {
      "cell_type": "code",
      "source": [
        "MercedezBenz().color"
      ],
      "execution_count": null,
      "outputs": [
        {
          "data": {
            "text/plain": [
              "'black'"
            ]
          },
          "metadata": {},
          "output_type": "display_data"
        }
      ],
      "metadata": {
        "id": "UN6NRGkYOSic",
        "outputId": "1c8691b2-f25f-45ba-c2e7-cf579b98d44a"
      }
    },
    {
      "cell_type": "code",
      "source": [
        "MercedezBenz(\"blue\")"
      ],
      "execution_count": null,
      "outputs": [
        {
          "data": {
            "text/plain": [
              "<__main__.MercedezBenz at 0x7f787d680bb0>"
            ]
          },
          "metadata": {},
          "output_type": "display_data"
        }
      ],
      "metadata": {
        "id": "t5eGsIilOSid",
        "outputId": "2d52942d-6b40-480e-950b-3ce57a15c69a"
      }
    },
    {
      "cell_type": "code",
      "source": [
        "m1 = MercedezBenz(\"black\")\n",
        "m2 = MercedezBenz(\"red\")"
      ],
      "execution_count": null,
      "outputs": [],
      "metadata": {
        "id": "rmadd6fyOSid"
      }
    },
    {
      "cell_type": "code",
      "source": [
        "m1.color, m2.color"
      ],
      "execution_count": null,
      "outputs": [
        {
          "data": {
            "text/plain": [
              "('black', 'red')"
            ]
          },
          "metadata": {},
          "output_type": "display_data"
        }
      ],
      "metadata": {
        "id": "0zd3mbMbOSie",
        "outputId": "975400be-e41a-407e-a0b4-8452bf17095e"
      }
    },
    {
      "cell_type": "markdown",
      "source": [
        "## `Alternatively: getattr() And setattr()`"
      ],
      "metadata": {
        "id": "AstG4Z4xOSie"
      }
    },
    {
      "cell_type": "code",
      "source": [
        "class MercedezBenz:\n",
        "    doors = 4\n",
        "    wheels = 4\n",
        "    model = 'G'\n",
        "\n",
        "    def __init__(self, color=\"black\"):  # after instance creation, but before it is returned\n",
        "        self.color = color\n",
        "\n",
        "    def drive(self):\n",
        "        print(f\"A Mercedez is driving. It is {self}\\n\")"
      ],
      "execution_count": null,
      "outputs": [],
      "metadata": {
        "id": "x-lTjnF6OSie"
      }
    },
    {
      "cell_type": "code",
      "source": [
        "m1 = MercedezBenz()\n",
        "m2 = MercedezBenz(\"red\")"
      ],
      "execution_count": null,
      "outputs": [],
      "metadata": {
        "id": "RFWUqbwTOSif"
      }
    },
    {
      "cell_type": "code",
      "source": [
        "# object.attribtue syntax"
      ],
      "execution_count": null,
      "outputs": [],
      "metadata": {
        "id": "CJEEWx-FOSig"
      }
    },
    {
      "cell_type": "code",
      "source": [
        "MercedezBenz.doors"
      ],
      "execution_count": null,
      "outputs": [
        {
          "data": {
            "text/plain": [
              "4"
            ]
          },
          "metadata": {},
          "output_type": "display_data"
        }
      ],
      "metadata": {
        "id": "bCiWSlHWOSig",
        "outputId": "ce493ebe-5738-4362-e280-00a34f30c8aa"
      }
    },
    {
      "cell_type": "code",
      "source": [
        "m1.color"
      ],
      "execution_count": null,
      "outputs": [
        {
          "data": {
            "text/plain": [
              "'black'"
            ]
          },
          "metadata": {},
          "output_type": "display_data"
        }
      ],
      "metadata": {
        "id": "Fvf4g0sOOSih",
        "outputId": "56a94137-ad7f-4831-91d6-7369c0cab4aa"
      }
    },
    {
      "cell_type": "code",
      "source": [
        "m2. wheels"
      ],
      "execution_count": null,
      "outputs": [
        {
          "data": {
            "text/plain": [
              "4"
            ]
          },
          "metadata": {},
          "output_type": "display_data"
        }
      ],
      "metadata": {
        "id": "Y3dSjII6OSih",
        "outputId": "1cd8035f-304a-4f79-d1ed-5e4f7b8dd444"
      }
    },
    {
      "cell_type": "code",
      "source": [
        "getattr(m1, \"color\")"
      ],
      "execution_count": null,
      "outputs": [
        {
          "data": {
            "text/plain": [
              "'black'"
            ]
          },
          "metadata": {},
          "output_type": "display_data"
        }
      ],
      "metadata": {
        "id": "-Bi9PTH3OSii",
        "outputId": "051dacba-7964-47a2-b8e4-f405e1cccf60"
      }
    },
    {
      "cell_type": "code",
      "source": [
        "m1.color"
      ],
      "execution_count": null,
      "outputs": [
        {
          "data": {
            "text/plain": [
              "'black'"
            ]
          },
          "metadata": {},
          "output_type": "display_data"
        }
      ],
      "metadata": {
        "id": "McnEuPG6OSij",
        "outputId": "0a2090a1-2140-498d-a15b-f76d21d14f85"
      }
    },
    {
      "cell_type": "code",
      "source": [
        "m2.color = \"reddish\""
      ],
      "execution_count": null,
      "outputs": [],
      "metadata": {
        "id": "uJgp7SZ-OSij"
      }
    },
    {
      "cell_type": "code",
      "source": [
        "setattr(m2, \"color\", \"less reddish\")"
      ],
      "execution_count": null,
      "outputs": [],
      "metadata": {
        "id": "zaTvIxAlOSik"
      }
    },
    {
      "cell_type": "code",
      "source": [
        "m2.color"
      ],
      "execution_count": null,
      "outputs": [
        {
          "data": {
            "text/plain": [
              "'less reddish'"
            ]
          },
          "metadata": {},
          "output_type": "display_data"
        }
      ],
      "metadata": {
        "id": "ADRKhu2hOSik",
        "outputId": "32ab9e26-8b12-4eaf-dbf5-4d7a443b8031"
      }
    },
    {
      "cell_type": "code",
      "source": [
        "objs = [m1, m2]\n",
        "\n",
        "attribs = [\"color\", \"doors\"]\n",
        "values = [\"navyblue\", 3]"
      ],
      "execution_count": null,
      "outputs": [],
      "metadata": {
        "id": "370_gEwnOSiw"
      }
    },
    {
      "cell_type": "code",
      "source": [
        "for obj in objs:\n",
        "    for attrib, val in zip(attribs, values):\n",
        "        setattr(obj, attrib, val) "
      ],
      "execution_count": null,
      "outputs": [],
      "metadata": {
        "id": "1XzDX60FOSix"
      }
    },
    {
      "cell_type": "code",
      "source": [
        "m1.color, m2.color"
      ],
      "execution_count": null,
      "outputs": [
        {
          "data": {
            "text/plain": [
              "('navyblue', 'navyblue')"
            ]
          },
          "metadata": {},
          "output_type": "display_data"
        }
      ],
      "metadata": {
        "id": "A5_8yEK5OSix",
        "outputId": "468e5d15-d69c-43e3-fadf-6c11e31e3d1b"
      }
    },
    {
      "cell_type": "code",
      "source": [
        "m1.doors, m2.doors"
      ],
      "execution_count": null,
      "outputs": [
        {
          "data": {
            "text/plain": [
              "(3, 3)"
            ]
          },
          "metadata": {},
          "output_type": "display_data"
        }
      ],
      "metadata": {
        "id": "2ewQq0pyOSiy",
        "outputId": "65bea23a-3e7d-4a45-cc3d-89172aa2defb"
      }
    },
    {
      "cell_type": "code",
      "source": [
        "# quick detour"
      ],
      "execution_count": null,
      "outputs": [],
      "metadata": {
        "id": "hkojAVHEOSiz"
      }
    },
    {
      "cell_type": "code",
      "source": [
        "list(zip(attribs, values))"
      ],
      "execution_count": null,
      "outputs": [
        {
          "data": {
            "text/plain": [
              "[('color', 'navyblue'), ('doors', 3)]"
            ]
          },
          "metadata": {},
          "output_type": "display_data"
        }
      ],
      "metadata": {
        "id": "yD5dujIcOSi0",
        "outputId": "a3512d41-6dc3-41a7-e1cb-910b81e27656"
      }
    },
    {
      "cell_type": "code",
      "source": [
        "m2.wingspan"
      ],
      "execution_count": null,
      "outputs": [
        {
          "ename": "AttributeError",
          "evalue": "AttributeError: 'MercedezBenz' object has no attribute 'wingspan'",
          "traceback": [
            "\u001b[0;31m---------------------------------------------------------------------------",
            "Traceback (most recent call last)",
            "    at line 1 in <module>",
            "AttributeError: 'MercedezBenz' object has no attribute 'wingspan'"
          ],
          "output_type": "error"
        }
      ],
      "metadata": {
        "id": "yhJKyj6tOSi3",
        "outputId": "96ce2466-235a-4801-96aa-1ff5e1aa5c5b"
      }
    },
    {
      "cell_type": "code",
      "source": [
        "try:\n",
        "    print(m2.wingspan)\n",
        "except AttributeError as e:\n",
        "    print(e)"
      ],
      "execution_count": null,
      "outputs": [
        {
          "name": "stdout",
          "text": [
            "'MercedezBenz' object has no attribute 'wingspan'\n"
          ],
          "output_type": "stream"
        }
      ],
      "metadata": {
        "id": "RM074RqqOSi4",
        "outputId": "b5458e6c-7e14-4440-ea85-d6d981a7fa26"
      }
    },
    {
      "cell_type": "code",
      "source": [
        "getattr(m2, \"wingspan\", \"No Attribute Found\")"
      ],
      "execution_count": null,
      "outputs": [
        {
          "data": {
            "text/plain": [
              "'No Attribute Found'"
            ]
          },
          "metadata": {},
          "output_type": "display_data"
        }
      ],
      "metadata": {
        "id": "tNE40eSIOSi5",
        "outputId": "2b6fded8-5ec6-4f62-97ab-565c006c937c"
      }
    },
    {
      "cell_type": "markdown",
      "source": [
        "## `Revisting self`"
      ],
      "metadata": {
        "id": "vutYsKqMOSi5"
      }
    },
    {
      "cell_type": "code",
      "source": [
        "class MercedezBenz:\n",
        "    doors = 4\n",
        "    model = 'G'\n",
        "    wheels = 4\n",
        "\n",
        "    def __init__(self, color):\n",
        "        self.color = color\n",
        "\n",
        "    def drive(self):\n",
        "        return f\"A Mercedez is driving. It is {self}\\n\"\n",
        "\n",
        "    def auto_drive(self):\n",
        "        return \"Auto-driving for now...\""
      ],
      "execution_count": null,
      "outputs": [],
      "metadata": {
        "id": "SGXXWk2JOSi6"
      }
    },
    {
      "cell_type": "code",
      "source": [
        "m1 = MercedezBenz(\"pink\")"
      ],
      "execution_count": null,
      "outputs": [],
      "metadata": {
        "id": "3TqmqzIwOSi6"
      }
    },
    {
      "cell_type": "code",
      "source": [
        "m1.auto_drive()"
      ],
      "execution_count": null,
      "outputs": [
        {
          "data": {
            "text/plain": [
              "'Auto-driving for now...'"
            ]
          },
          "metadata": {},
          "output_type": "display_data"
        }
      ],
      "metadata": {
        "id": "5Et3pyENOSi6",
        "outputId": "c4f27297-6c78-422c-cbd3-82bec7cba092"
      }
    },
    {
      "cell_type": "code",
      "source": [
        "# C#, java: this (reserved)"
      ],
      "execution_count": null,
      "outputs": [],
      "metadata": {
        "id": "gflaEujROSi7"
      }
    },
    {
      "cell_type": "markdown",
      "source": [
        "## `Class and Static Methods`"
      ],
      "metadata": {
        "id": "Z4nP62ECOSi7"
      }
    },
    {
      "cell_type": "code",
      "source": [
        "class MercedezBenz:\n",
        "    doors = 4\n",
        "    model = 'G'\n",
        "    wheels = 4\n",
        "\n",
        "    def __init__(self, color=\"black\"):\n",
        "        self.color = color\n",
        "\n",
        "    def drive(self):\n",
        "        return f\"A Mercedez is driving. It is {self}\\n\"\n",
        "\n",
        "    @staticmethod\n",
        "    def auto_drive():\n",
        "        return \"Auto-driving for now...\""
      ],
      "execution_count": null,
      "outputs": [],
      "metadata": {
        "id": "nUuU0AXbOSi8"
      }
    },
    {
      "cell_type": "code",
      "source": [
        "m1 = MercedezBenz()"
      ],
      "execution_count": null,
      "outputs": [],
      "metadata": {
        "id": "G0pJv8GIOSi8"
      }
    },
    {
      "cell_type": "code",
      "source": [
        "m1.auto_drive()"
      ],
      "execution_count": null,
      "outputs": [
        {
          "data": {
            "text/plain": [
              "'Auto-driving for now...'"
            ]
          },
          "metadata": {},
          "output_type": "display_data"
        }
      ],
      "metadata": {
        "id": "JLARpiQrOSi8",
        "outputId": "4db4c679-40da-40ef-92c2-af2ef630bf3b"
      }
    },
    {
      "cell_type": "code",
      "source": [
        "MercedezBenz.auto_drive()"
      ],
      "execution_count": null,
      "outputs": [
        {
          "data": {
            "text/plain": [
              "'Auto-driving for now...'"
            ]
          },
          "metadata": {},
          "output_type": "display_data"
        }
      ],
      "metadata": {
        "id": "xeDEsxWxOSi9",
        "outputId": "12fecf39-58b9-4872-e056-bdd98cfefbb1"
      }
    },
    {
      "cell_type": "code",
      "source": [
        "class MercedezBenz:\n",
        "    doors = 4\n",
        "    model = 'G'\n",
        "    wheels = 4\n",
        "\n",
        "    def __init__(self, color=\"black\"):\n",
        "        self.color = color\n",
        "\n",
        "    def drive(self):\n",
        "        return f\"A Mercedez is driving. It is {self}\\n\"\n",
        "\n",
        "    @staticmethod\n",
        "    def auto_drive():\n",
        "        return \"Auto-driving for now...\"\n",
        "\n",
        "    @classmethod\n",
        "    def create_lease(cls):\n",
        "        print(f\"A lease for {cls} will be created\")"
      ],
      "execution_count": null,
      "outputs": [],
      "metadata": {
        "id": "e7vOIFkvOSi9"
      }
    },
    {
      "cell_type": "code",
      "source": [
        "MercedezBenz.create_lease()"
      ],
      "execution_count": null,
      "outputs": [
        {
          "name": "stdout",
          "text": [
            "A lease for <class '__main__.MercedezBenz'> will be created\n"
          ],
          "output_type": "stream"
        }
      ],
      "metadata": {
        "id": "1mSleye8OSi9",
        "outputId": "336fe197-d7d0-400a-b7e3-2d21d41a5c0d"
      }
    },
    {
      "cell_type": "code",
      "source": [
        "m1 = MercedezBenz()"
      ],
      "execution_count": null,
      "outputs": [],
      "metadata": {
        "id": "gQ57E00ROSi-"
      }
    },
    {
      "cell_type": "code",
      "source": [
        "m1.create_lease()"
      ],
      "execution_count": null,
      "outputs": [
        {
          "name": "stdout",
          "text": [
            "A lease for <class '__main__.MercedezBenz'> will be created\n"
          ],
          "output_type": "stream"
        }
      ],
      "metadata": {
        "id": "h5xbRqyxOSi-",
        "outputId": "21fe1536-d05b-4c9d-ff6c-5b286f33a3ed"
      }
    },
    {
      "cell_type": "markdown",
      "source": [
        "## `BONUS: An Alternative Syntax`"
      ],
      "metadata": {
        "id": "k3m-l2wcOSi-"
      }
    },
    {
      "cell_type": "code",
      "source": [
        "class MercedezBenz:\n",
        "    doors = 4\n",
        "    model = 'G'\n",
        "    wheels = 4\n",
        "\n",
        "    def __init__(self, color=\"black\"):\n",
        "        self.color = color\n",
        "\n",
        "    def drive(self):\n",
        "        return f\"A Mercedez is driving. It is {self}\\n\"\n",
        "\n",
        "    # @staticmethod\n",
        "    def auto_drive():\n",
        "        return \"Auto-driving for now...\"\n",
        "\n",
        "    def create_lease(cls):\n",
        "        print(f\"A lease for {cls} will be created\")\n",
        "\n",
        "\n",
        "    create_lease = classmethod(create_lease)\n",
        "    auto_drive = staticmethod(auto_drive)"
      ],
      "execution_count": null,
      "outputs": [],
      "metadata": {
        "id": "67L_yP0KOSi_"
      }
    },
    {
      "cell_type": "code",
      "source": [
        "m1 = MercedezBenz()"
      ],
      "execution_count": null,
      "outputs": [],
      "metadata": {
        "id": "L3d9wZuUOSjA"
      }
    },
    {
      "cell_type": "code",
      "source": [
        "m1.create_lease()"
      ],
      "execution_count": null,
      "outputs": [
        {
          "name": "stdout",
          "text": [
            "A lease for <class '__main__.MercedezBenz'> will be created\n"
          ],
          "output_type": "stream"
        }
      ],
      "metadata": {
        "id": "38I7UuFFOSjA",
        "outputId": "4e3bfdd2-6ade-4ae9-8891-e5d718bd6b61"
      }
    },
    {
      "cell_type": "code",
      "source": [
        "m1.auto_drive()"
      ],
      "execution_count": null,
      "outputs": [
        {
          "data": {
            "text/plain": [
              "'Auto-driving for now...'"
            ]
          },
          "metadata": {},
          "output_type": "display_data"
        }
      ],
      "metadata": {
        "id": "aQaOqfHLOSjB",
        "outputId": "c4c0d870-9f07-44b2-a096-bd8ea76c2369"
      }
    },
    {
      "cell_type": "markdown",
      "source": [
        "## `Dunder Dict`"
      ],
      "metadata": {
        "id": "wnweErofOSjB"
      }
    },
    {
      "cell_type": "code",
      "source": [
        "m1 = MercedezBenz(\"lavender\")"
      ],
      "execution_count": null,
      "outputs": [],
      "metadata": {
        "id": "CHIGIcWWOSjC"
      }
    },
    {
      "cell_type": "code",
      "source": [
        "# \"object.attribute\" syntax"
      ],
      "execution_count": null,
      "outputs": [],
      "metadata": {
        "id": "UbGYmKbzOSjC"
      }
    },
    {
      "cell_type": "code",
      "source": [
        "m1.color"
      ],
      "execution_count": null,
      "outputs": [
        {
          "data": {
            "text/plain": [
              "'lavender'"
            ]
          },
          "metadata": {},
          "output_type": "display_data"
        }
      ],
      "metadata": {
        "id": "7fuASGqKOSjC",
        "outputId": "3906bc33-d9af-495d-a67c-de207fc5f45d"
      }
    },
    {
      "cell_type": "code",
      "source": [
        "m1.__dict__"
      ],
      "execution_count": null,
      "outputs": [
        {
          "data": {
            "text/plain": [
              "{'color': 'lavender', 'horse_power': 290}"
            ]
          },
          "metadata": {},
          "output_type": "display_data"
        }
      ],
      "metadata": {
        "id": "unKzoM91OSjD",
        "outputId": "062ae221-07b5-4f9a-9c54-f58fe457e2ed"
      }
    },
    {
      "cell_type": "code",
      "source": [
        "m2 = MercedezBenz(\"cyan\")"
      ],
      "execution_count": null,
      "outputs": [],
      "metadata": {
        "id": "WC12DH7VOSjD"
      }
    },
    {
      "cell_type": "code",
      "source": [
        "m2.__dict__"
      ],
      "execution_count": null,
      "outputs": [
        {
          "data": {
            "text/plain": [
              "{'color': 'cyan'}"
            ]
          },
          "metadata": {},
          "output_type": "display_data"
        }
      ],
      "metadata": {
        "id": "C4LK1Sm5OSjE",
        "outputId": "cf86eca2-1db3-4654-bf3b-9ae21d72bde6"
      }
    },
    {
      "cell_type": "code",
      "source": [
        "m2.horse_power = 490"
      ],
      "execution_count": null,
      "outputs": [],
      "metadata": {
        "id": "pBOSiX63OSjF"
      }
    },
    {
      "cell_type": "code",
      "source": [
        "m2.__dict__"
      ],
      "execution_count": null,
      "outputs": [
        {
          "data": {
            "text/plain": [
              "{'color': 'cyan', 'horse_power': 490}"
            ]
          },
          "metadata": {},
          "output_type": "display_data"
        }
      ],
      "metadata": {
        "id": "TR_W4MyMOSjU",
        "outputId": "3636a292-4c42-40ad-81bb-e043565303a1"
      }
    },
    {
      "cell_type": "code",
      "source": [
        "m1.__dict__"
      ],
      "execution_count": null,
      "outputs": [
        {
          "data": {
            "text/plain": [
              "{'color': 'lavender', 'horse_power': 290}"
            ]
          },
          "metadata": {},
          "output_type": "display_data"
        }
      ],
      "metadata": {
        "id": "PgevTVgvOSjW",
        "outputId": "bfca636f-f5f9-47de-de68-ab3b7e059c13"
      }
    },
    {
      "cell_type": "code",
      "source": [
        "m1.__dict__[\"horse_power\"] = 290"
      ],
      "execution_count": null,
      "outputs": [],
      "metadata": {
        "id": "ooPnBPk-OSjW"
      }
    },
    {
      "cell_type": "code",
      "source": [
        "m1.horse_power"
      ],
      "execution_count": null,
      "outputs": [
        {
          "data": {
            "text/plain": [
              "290"
            ]
          },
          "metadata": {},
          "output_type": "display_data"
        }
      ],
      "metadata": {
        "id": "1125MfNKOSjW",
        "outputId": "c09a8f80-1953-4a1a-c000-7dbedc059d16"
      }
    },
    {
      "cell_type": "markdown",
      "source": [
        "## `Class vs Instance __dict__`"
      ],
      "metadata": {
        "id": "rbcWhK-jOSjX"
      }
    },
    {
      "cell_type": "code",
      "source": [
        "class MercedezBenz:\n",
        "    doors = 4\n",
        "    model = 'G'\n",
        "    wheels = 4\n",
        "\n",
        "    def __init__(self, color=\"black\"):\n",
        "        self.color = color\n",
        "\n",
        "    def drive(self):\n",
        "        return f\"A Mercedez is driving. It is {self}\\n\"\n",
        "\n",
        "    @staticmethod\n",
        "    def auto_drive():\n",
        "        return \"Auto-driving for now...\"\n",
        "\n",
        "    @classmethod\n",
        "    def create_lease(cls):\n",
        "        print(f\"A lease for {cls} will be created\")"
      ],
      "execution_count": null,
      "outputs": [],
      "metadata": {
        "id": "T6lsnevJOSjX"
      }
    },
    {
      "cell_type": "code",
      "source": [
        "MercedezBenz.__dict__"
      ],
      "execution_count": null,
      "outputs": [
        {
          "data": {
            "text/plain": [
              "mappingproxy({'__module__': '__main__',\n",
              "              'doors': 4,\n",
              "              'model': 'G',\n",
              "              'wheels': 4,\n",
              "              '__init__': <function __main__.MercedezBenz.__init__(self, color='black')>,\n",
              "              'drive': <function __main__.MercedezBenz.drive(self)>,\n",
              "              'auto_drive': <staticmethod at 0x7fc97d4e2ca0>,\n",
              "              'create_lease': <classmethod at 0x7fc97d4e2d60>,\n",
              "              '__dict__': <attribute '__dict__' of 'MercedezBenz' objects>,\n",
              "              '__weakref__': <attribute '__weakref__' of 'MercedezBenz' objects>,\n",
              "              '__doc__': None})"
            ]
          },
          "metadata": {},
          "output_type": "display_data"
        }
      ],
      "metadata": {
        "id": "Jp0HDcvkOSjX",
        "outputId": "3902edaf-30e9-4b1c-c884-605807c0ea10"
      }
    },
    {
      "cell_type": "code",
      "source": [
        "type(MercedezBenz.__dict__)"
      ],
      "execution_count": null,
      "outputs": [
        {
          "data": {
            "text/plain": [
              "mappingproxy"
            ]
          },
          "metadata": {},
          "output_type": "display_data"
        }
      ],
      "metadata": {
        "id": "QQqT1_8lOSjY",
        "outputId": "08f36361-1913-47c2-e501-54610bc349fe"
      }
    },
    {
      "cell_type": "code",
      "source": [
        "# MRO -> method resolution order"
      ],
      "execution_count": null,
      "outputs": [],
      "metadata": {
        "id": "rkrxm0siOSjY"
      }
    },
    {
      "cell_type": "code",
      "source": [
        "m1.__dict__"
      ],
      "execution_count": null,
      "outputs": [
        {
          "data": {
            "text/plain": [
              "{'color': 'lavender', 'horse_power': 290}"
            ]
          },
          "metadata": {},
          "output_type": "display_data"
        }
      ],
      "metadata": {
        "id": "EKJOqehOOSjY",
        "outputId": "42864fad-fcb1-47bd-ae05-bffe283449b1"
      }
    },
    {
      "cell_type": "code",
      "source": [
        "# get attribute by name of \"__dict__\" \n",
        "# python goes looking for it in the naemspace, then the class\n",
        "# in the class, it finds it\n",
        "# the attribute name (__dict__) points to a descriptor\n",
        "# the descriptors get() is called\n",
        "# which returns a dictionary"
      ],
      "execution_count": null,
      "outputs": [],
      "metadata": {
        "id": "yp2UuZWEOSjZ"
      }
    },
    {
      "cell_type": "markdown",
      "source": [
        "## `BONUS: Careful With Mutables`"
      ],
      "metadata": {
        "id": "POlSAyhmOSjZ"
      }
    },
    {
      "cell_type": "code",
      "source": [
        "class MercedezBenz:\n",
        "    doors = 5\n",
        "    model = 'G'\n",
        "    wheels = 4\n",
        "\n",
        "    def __init__(self, color=\"black\"):\n",
        "        self.color = color\n",
        "\n",
        "    def drive(self):\n",
        "        return f\"A Mercedez is driving. It is {self}\\n\"\n",
        "\n",
        "    @staticmethod\n",
        "    def auto_drive():\n",
        "        return \"Auto-driving for now...\"\n",
        "\n",
        "    @classmethod\n",
        "    def create_lease(cls):\n",
        "        print(f\"A lease for {cls} will be created\")"
      ],
      "execution_count": null,
      "outputs": [],
      "metadata": {
        "id": "J7mBnlHJOSjZ"
      }
    },
    {
      "cell_type": "code",
      "source": [
        "MercedezBenz.__dict__"
      ],
      "execution_count": null,
      "outputs": [
        {
          "data": {
            "text/plain": [
              "mappingproxy({'__module__': '__main__',\n",
              "              'doors': 4,\n",
              "              'model': 'G',\n",
              "              'wheels': 4,\n",
              "              '__init__': <function __main__.MercedezBenz.__init__(self, color='black')>,\n",
              "              'drive': <function __main__.MercedezBenz.drive(self)>,\n",
              "              'auto_drive': <staticmethod at 0x7fc97d56d370>,\n",
              "              'create_lease': <classmethod at 0x7fc97d56db20>,\n",
              "              '__dict__': <attribute '__dict__' of 'MercedezBenz' objects>,\n",
              "              '__weakref__': <attribute '__weakref__' of 'MercedezBenz' objects>,\n",
              "              '__doc__': None})"
            ]
          },
          "metadata": {},
          "output_type": "display_data"
        }
      ],
      "metadata": {
        "id": "q5yMZq_vOSja",
        "outputId": "22b31ce9-8091-4448-b6df-8762a2728704"
      }
    },
    {
      "cell_type": "code",
      "source": [
        "m1 = MercedezBenz()\n",
        "m2 = MercedezBenz()"
      ],
      "execution_count": null,
      "outputs": [],
      "metadata": {
        "id": "v4fo5-0bOSja"
      }
    },
    {
      "cell_type": "code",
      "source": [
        "m1.doors = 2\n",
        "m2.doors = 3"
      ],
      "execution_count": null,
      "outputs": [],
      "metadata": {
        "id": "U-Hc7srEOSja"
      }
    },
    {
      "cell_type": "code",
      "source": [
        "m1.doors, m2.doors"
      ],
      "execution_count": null,
      "outputs": [
        {
          "data": {
            "text/plain": [
              "(2, 3)"
            ]
          },
          "metadata": {},
          "output_type": "display_data"
        }
      ],
      "metadata": {
        "id": "NYaBdsdxOSja",
        "outputId": "2b29fdd3-9544-4ce1-8dfa-e9895086876d"
      }
    },
    {
      "cell_type": "code",
      "source": [
        "m3 = MercedezBenz()"
      ],
      "execution_count": null,
      "outputs": [],
      "metadata": {
        "id": "lnwcGtyZOSjb"
      }
    },
    {
      "cell_type": "code",
      "source": [
        "m3.doors"
      ],
      "execution_count": null,
      "outputs": [
        {
          "data": {
            "text/plain": [
              "4"
            ]
          },
          "metadata": {},
          "output_type": "display_data"
        }
      ],
      "metadata": {
        "id": "0KuCSRruOSjb",
        "outputId": "137557cc-d52b-4cb8-8d2e-ea78203faa9c"
      }
    },
    {
      "cell_type": "code",
      "source": [
        "# immutables: booleans, ints, floats, stirng, tuples"
      ],
      "execution_count": null,
      "outputs": [],
      "metadata": {
        "id": "HgznLuTmOSjb"
      }
    },
    {
      "cell_type": "code",
      "source": [
        "# mutable: list"
      ],
      "execution_count": null,
      "outputs": [],
      "metadata": {
        "id": "cWMENsobOSjc"
      }
    },
    {
      "cell_type": "code",
      "source": [
        "class Tire:\n",
        "    def __init__(self, kind, distance_covered):\n",
        "        self.kind = kind\n",
        "        self.distance_covered = distance_covered"
      ],
      "execution_count": null,
      "outputs": [],
      "metadata": {
        "id": "tWQKmNRFOSjc"
      }
    },
    {
      "cell_type": "code",
      "source": [
        "class MercedezBenz:\n",
        "    doors = 5\n",
        "    model = 'G'\n",
        "    wheels = 4\n",
        "    tires = [Tire(\"operational\", 10) for i in range(4)]\n",
        "\n",
        "    def __init__(self, color=\"black\"):\n",
        "        self.color = color\n",
        "\n",
        "    def drive(self):\n",
        "        return f\"A Mercedez is driving. It is {self}\\n\"\n",
        "\n",
        "    @staticmethod\n",
        "    def auto_drive():\n",
        "        return \"Auto-driving for now...\"\n",
        "\n",
        "    @classmethod\n",
        "    def create_lease(cls):\n",
        "        print(f\"A lease for {cls} will be created\")"
      ],
      "execution_count": null,
      "outputs": [],
      "metadata": {
        "id": "WFHOclLXOSjc"
      }
    },
    {
      "cell_type": "code",
      "source": [
        "m1 = MercedezBenz()"
      ],
      "execution_count": null,
      "outputs": [],
      "metadata": {
        "id": "N3ZABGMcOSjd"
      }
    },
    {
      "cell_type": "code",
      "source": [
        "m1.tires"
      ],
      "execution_count": null,
      "outputs": [
        {
          "data": {
            "text/plain": [
              "[<__main__.Tire at 0x7fc97d3baee0>,\n",
              " <__main__.Tire at 0x7fc97d3ba280>,\n",
              " <__main__.Tire at 0x7fc97d3ba940>,\n",
              " <__main__.Tire at 0x7fc97d3bad30>]"
            ]
          },
          "metadata": {},
          "output_type": "display_data"
        }
      ],
      "metadata": {
        "id": "6QdPqlO6OSjd",
        "outputId": "6b0d5e54-b2b1-4574-a707-d57883982556"
      }
    },
    {
      "cell_type": "code",
      "source": [
        "m2 = MercedezBenz()"
      ],
      "execution_count": null,
      "outputs": [],
      "metadata": {
        "id": "FahxuA4BOSje"
      }
    },
    {
      "cell_type": "code",
      "source": [
        "m2.tires"
      ],
      "execution_count": null,
      "outputs": [
        {
          "data": {
            "text/plain": [
              "[<__main__.Tire at 0x7fc97d3baee0>,\n",
              " <__main__.Tire at 0x7fc97d3ba280>,\n",
              " <__main__.Tire at 0x7fc97d3ba940>,\n",
              " <__main__.Tire at 0x7fc97d3bad30>,\n",
              " <__main__.Tire at 0x7fc97d5ac2e0>]"
            ]
          },
          "metadata": {},
          "output_type": "display_data"
        }
      ],
      "metadata": {
        "id": "4V6yGgZgOSje",
        "outputId": "a3d6bea9-21c6-459d-fc05-136236b1d4e2"
      }
    },
    {
      "cell_type": "code",
      "source": [
        "m1.tires.append(Tire(kind=\"spare\", distance_covered=100))"
      ],
      "execution_count": null,
      "outputs": [],
      "metadata": {
        "id": "wASPeBrxOSje"
      }
    },
    {
      "cell_type": "code",
      "source": [
        "MercedezBenz().tires"
      ],
      "execution_count": null,
      "outputs": [
        {
          "data": {
            "text/plain": [
              "[<__main__.Tire at 0x7fc97d3baee0>,\n",
              " <__main__.Tire at 0x7fc97d3ba280>,\n",
              " <__main__.Tire at 0x7fc97d3ba940>,\n",
              " <__main__.Tire at 0x7fc97d3bad30>,\n",
              " <__main__.Tire at 0x7fc97d5ac2e0>]"
            ]
          },
          "metadata": {},
          "output_type": "display_data"
        }
      ],
      "metadata": {
        "id": "f98RBCBROSjf",
        "outputId": "584bf287-d652-4d9a-ee35-578073026f72"
      }
    },
    {
      "cell_type": "markdown",
      "source": [
        "## `Access Control`"
      ],
      "metadata": {
        "id": "QRoWPSc0OSjf"
      }
    },
    {
      "cell_type": "code",
      "source": [
        "m1 = MercedezBenz(\"lavender\")"
      ],
      "execution_count": null,
      "outputs": [],
      "metadata": {
        "id": "7pejm2sqOSjf"
      }
    },
    {
      "cell_type": "code",
      "source": [
        "m1.doors += 1"
      ],
      "execution_count": null,
      "outputs": [],
      "metadata": {
        "id": "Ba79PK79OSjg"
      }
    },
    {
      "cell_type": "code",
      "source": [
        "m1.doors = \"Andy\""
      ],
      "execution_count": null,
      "outputs": [],
      "metadata": {
        "id": "1xnb0JAQOSjg"
      }
    },
    {
      "cell_type": "code",
      "source": [
        "m1.doors = 1.2"
      ],
      "execution_count": null,
      "outputs": [],
      "metadata": {
        "id": "G94ct-ctOSjg"
      }
    },
    {
      "cell_type": "markdown",
      "source": [
        "## `Docstrings`"
      ],
      "metadata": {
        "id": "WQfNAbjmOSjg"
      }
    },
    {
      "cell_type": "code",
      "source": [
        "# getattr()"
      ],
      "execution_count": null,
      "outputs": [],
      "metadata": {
        "id": "LFpx2H8MOSjh"
      }
    },
    {
      "cell_type": "code",
      "source": [
        "help(getattr)"
      ],
      "execution_count": null,
      "outputs": [
        {
          "name": "stdout",
          "text": [
            "Help on built-in function getattr in module builtins:\n",
            "\n",
            "getattr(...)\n",
            "    getattr(object, name[, default]) -> value\n",
            "    \n",
            "    Get a named attribute from an object; getattr(x, 'y') is equivalent to x.y.\n",
            "    When a default argument is given, it is returned when the attribute doesn't\n",
            "    exist; without it, an exception is raised in that case.\n",
            "\n"
          ],
          "output_type": "stream"
        }
      ],
      "metadata": {
        "id": "BlKkBcsVOSjh",
        "outputId": "b99a0a5e-9c99-4579-b86a-10fdd90940b9"
      }
    },
    {
      "cell_type": "code",
      "source": [
        "help(Tire)"
      ],
      "execution_count": null,
      "outputs": [
        {
          "name": "stdout",
          "text": [
            "Help on class Tire in module __main__:\n",
            "\n",
            "class Tire(builtins.object)\n",
            " |  Tire(kind, distance_covered)\n",
            " |  \n",
            " |  Methods defined here:\n",
            " |  \n",
            " |  __init__(self, kind, distance_covered)\n",
            " |      Initialize self.  See help(type(self)) for accurate signature.\n",
            " |  \n",
            " |  ----------------------------------------------------------------------\n",
            " |  Data descriptors defined here:\n",
            " |  \n",
            " |  __dict__\n",
            " |      dictionary for instance variables (if defined)\n",
            " |  \n",
            " |  __weakref__\n",
            " |      list of weak references to the object (if defined)\n",
            "\n"
          ],
          "output_type": "stream"
        }
      ],
      "metadata": {
        "id": "bWY6GBnqOSjh",
        "outputId": "66eb2e9a-b2a7-4942-9aa7-e4239be60a1a"
      }
    },
    {
      "cell_type": "code",
      "source": [
        "class Tire:\n",
        "    # \"\"\"Defines an automobile tire object.\n",
        "\n",
        "    # :param kind: the kind of tire, e.g. operational, spare, or winter\n",
        "    # :param distance_covered: the distance in km the tire has covered\n",
        "    # \"\"\"\n",
        "\n",
        "    def __init__(self, kind, distance_covered):\n",
        "        self.kind = kind\n",
        "        self.distance_covered = distance_covered"
      ],
      "execution_count": null,
      "outputs": [],
      "metadata": {
        "id": "wwp2JGcAOSjh"
      }
    },
    {
      "cell_type": "code",
      "source": [
        " Tire.__dict__"
      ],
      "execution_count": null,
      "outputs": [
        {
          "data": {
            "text/plain": [
              "mappingproxy({'__module__': '__main__',\n",
              "              '__init__': <function __main__.Tire.__init__(self, kind, distance_covered)>,\n",
              "              '__dict__': <attribute '__dict__' of 'Tire' objects>,\n",
              "              '__weakref__': <attribute '__weakref__' of 'Tire' objects>,\n",
              "              '__doc__': None})"
            ]
          },
          "metadata": {},
          "output_type": "display_data"
        }
      ],
      "metadata": {
        "id": "qK7crHB4OSji",
        "outputId": "2a2404d8-0d65-4999-828a-e4613cdfef6d"
      }
    }
  ],
  "metadata": {
    "colab": {
      "name": "021 Classes.ipynb",
      "provenance": [],
      "toc_visible": true,
      "include_colab_link": true
    },
    "language_info": {
      "name": "python"
    },
    "kernelspec": {
      "name": "python3",
      "display_name": "Python 3"
    }
  },
  "nbformat": 4,
  "nbformat_minor": 0
}